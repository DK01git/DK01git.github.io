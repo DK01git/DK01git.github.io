{
  "nbformat": 4,
  "nbformat_minor": 0,
  "metadata": {
    "colab": {
      "provenance": [],
      "gpuType": "T4",
      "authorship_tag": "ABX9TyNq1VfUhQIxXzHGR6kbdfRC",
      "include_colab_link": true
    },
    "kernelspec": {
      "name": "python3",
      "display_name": "Python 3"
    },
    "language_info": {
      "name": "python"
    },
    "accelerator": "GPU"
  },
  "cells": [
    {
      "cell_type": "markdown",
      "metadata": {
        "id": "view-in-github",
        "colab_type": "text"
      },
      "source": [
        "<a href=\"https://colab.research.google.com/github/DK01git/DK01git.github.io/blob/main/imbalance_Complete_code.ipynb\" target=\"_parent\"><img src=\"https://colab.research.google.com/assets/colab-badge.svg\" alt=\"Open In Colab\"/></a>"
      ]
    },
    {
      "cell_type": "code",
      "source": [
        "import pandas as pd\n",
        "from sklearn.model_selection import train_test_split\n",
        "from sklearn.ensemble import RandomForestClassifier\n",
        "from sklearn.metrics import accuracy_score, precision_score, recall_score\n",
        "from imblearn.over_sampling import RandomOverSampler, SMOTE\n",
        "from imblearn.under_sampling import TomekLinks\n"
      ],
      "metadata": {
        "id": "G6rbg-Hjy69N"
      },
      "execution_count": 18,
      "outputs": []
    },
    {
      "cell_type": "code",
      "source": [
        "# Load your dataset\n",
        "data = pd.read_csv('creditcard.csv')\n",
        "data = data.dropna()\n",
        "\n",
        "# Separate features and target variable\n",
        "X = data.drop('Class', axis=1)\n",
        "y = data['Class']\n",
        "\n",
        "# Split the dataset into training and testing sets\n",
        "X_train, X_test, y_train, y_test = train_test_split(X, y, test_size=0.2, random_state=42)\n"
      ],
      "metadata": {
        "id": "FAqDiBxjy-Gb"
      },
      "execution_count": 19,
      "outputs": []
    },
    {
      "cell_type": "code",
      "source": [
        "# Random Oversampling\n",
        "ros = RandomOverSampler(random_state=42)\n",
        "X_resampled_ros, y_resampled_ros = ros.fit_resample(X_train, y_train)\n",
        "\n",
        "# Train a Random Forest model on the resampled data\n",
        "rf_ros = RandomForestClassifier(random_state=42)\n",
        "rf_ros.fit(X_resampled_ros, y_resampled_ros)\n",
        "\n",
        "# Make predictions on the test set\n",
        "y_pred_ros = rf_ros.predict(X_test)\n",
        "\n",
        "# Evaluate the Random Oversampling method\n",
        "accuracy_ros = accuracy_score(y_test, y_pred_ros)\n",
        "precision_ros = precision_score(y_test, y_pred_ros)\n",
        "recall_ros = recall_score(y_test, y_pred_ros)\n",
        "\n",
        "print(\"Random Oversampling:\")\n",
        "print(\"Accuracy:\", accuracy_ros)\n",
        "print(\"Precision:\", precision_ros)\n",
        "print(\"Recall:\", recall_ros)\n"
      ],
      "metadata": {
        "colab": {
          "base_uri": "https://localhost:8080/"
        },
        "id": "W4aSB-JXzEGy",
        "outputId": "cddbe155-f83f-4ab4-b66f-77131b15d5c6"
      },
      "execution_count": 20,
      "outputs": [
        {
          "output_type": "stream",
          "name": "stdout",
          "text": [
            "Random Oversampling:\n",
            "Accuracy: 0.9995413370026374\n",
            "Precision: 0.9365079365079365\n",
            "Recall: 0.8309859154929577\n"
          ]
        }
      ]
    },
    {
      "cell_type": "code",
      "source": [
        "# SMOTE Oversampling\n",
        "smote = SMOTE(random_state=42)\n",
        "X_resampled_smote, y_resampled_smote = smote.fit_resample(X_train, y_train)\n",
        "\n",
        "# Train a Random Forest model on the resampled data\n",
        "rf_smote = RandomForestClassifier(random_state=42)\n",
        "rf_smote.fit(X_resampled_smote, y_resampled_smote)\n",
        "\n",
        "# Make predictions on the test set\n",
        "y_pred_smote = rf_smote.predict(X_test)\n",
        "\n",
        "# Evaluate the SMOTE Oversampling method\n",
        "accuracy_smote = accuracy_score(y_test, y_pred_smote)\n",
        "precision_smote = precision_score(y_test, y_pred_smote)\n",
        "recall_smote = recall_score(y_test, y_pred_smote)\n",
        "\n",
        "print(\"\\nSMOTE Oversampling:\")\n",
        "print(\"Accuracy:\", accuracy_smote)\n",
        "print(\"Precision:\", precision_smote)\n",
        "print(\"Recall:\", recall_smote)\n"
      ],
      "metadata": {
        "colab": {
          "base_uri": "https://localhost:8080/"
        },
        "id": "WFH1Mr5HzNHA",
        "outputId": "3472bf77-def3-41be-82dc-edbc54f27e89"
      },
      "execution_count": 17,
      "outputs": [
        {
          "output_type": "stream",
          "name": "stdout",
          "text": [
            "\n",
            "SMOTE Oversampling:\n",
            "Accuracy: 0.9993784050605141\n",
            "Precision: 0.9285714285714286\n",
            "Recall: 0.7358490566037735\n"
          ]
        }
      ]
    },
    {
      "cell_type": "code",
      "source": [
        "# TomekLinks Undersampling\n",
        "tomek_links = TomekLinks()\n",
        "X_resampled_tomek, y_resampled_tomek = tomek_links.fit_resample(X_train, y_train)\n",
        "\n",
        "# Train a Random Forest model on the resampled data\n",
        "rf_tomek = RandomForestClassifier(random_state=42)\n",
        "rf_tomek.fit(X_resampled_tomek, y_resampled_tomek)\n",
        "\n",
        "# Make predictions on the test set\n",
        "y_pred_tomek = rf_tomek.predict(X_test)\n",
        "\n",
        "# Evaluate the TomekLinks Undersampling method\n",
        "accuracy_tomek = accuracy_score(y_test, y_pred_tomek)\n",
        "precision_tomek = precision_score(y_test, y_pred_tomek)\n",
        "recall_tomek = recall_score(y_test, y_pred_tomek)\n",
        "\n",
        "print(\"\\nTomekLinks Undersampling:\")\n",
        "print(\"Accuracy:\", accuracy_tomek)\n",
        "print(\"Precision:\", precision_tomek)\n",
        "print(\"Recall:\", recall_tomek)\n"
      ],
      "metadata": {
        "colab": {
          "base_uri": "https://localhost:8080/"
        },
        "id": "Gm3aLhHozR_t",
        "outputId": "25daba9e-766c-4c0d-905a-693e43bbb7d2"
      },
      "execution_count": 21,
      "outputs": [
        {
          "output_type": "stream",
          "name": "stdout",
          "text": [
            "\n",
            "TomekLinks Undersampling:\n",
            "Accuracy: 0.9995413370026374\n",
            "Precision: 0.9661016949152542\n",
            "Recall: 0.8028169014084507\n"
          ]
        }
      ]
    },
    {
      "cell_type": "code",
      "source": [
        "from sklearn.ensemble import RandomForestClassifier\n",
        "from sklearn.metrics import accuracy_score, precision_score, recall_score\n",
        "\n",
        "# Create a Random Forest classifier\n",
        "rf_no_sampling = RandomForestClassifier(random_state=42)\n",
        "\n",
        "# Train the classifier on the original imbalanced data\n",
        "rf_no_sampling.fit(X_train, y_train)\n",
        "\n",
        "# Make predictions on the test set\n",
        "y_pred_no_sampling = rf_no_sampling.predict(X_test)\n",
        "\n",
        "# Evaluate the model without oversampling or undersampling\n",
        "accuracy_no_sampling = accuracy_score(y_test, y_pred_no_sampling)\n",
        "precision_no_sampling = precision_score(y_test, y_pred_no_sampling)\n",
        "recall_no_sampling = recall_score(y_test, y_pred_no_sampling)\n",
        "\n",
        "print(\"Without Oversampling or Undersampling:\")\n",
        "print(\"Accuracy:\", accuracy_no_sampling)\n",
        "print(\"Precision:\", precision_no_sampling)\n",
        "print(\"Recall:\", recall_no_sampling)\n"
      ],
      "metadata": {
        "colab": {
          "base_uri": "https://localhost:8080/"
        },
        "id": "3uN80tmuzV-p",
        "outputId": "2100d121-d0b2-4dc6-c70c-7a9a1ef6124f"
      },
      "execution_count": 22,
      "outputs": [
        {
          "output_type": "stream",
          "name": "stdout",
          "text": [
            "Without Oversampling or Undersampling:\n",
            "Accuracy: 0.9995700034399725\n",
            "Precision: 0.9666666666666667\n",
            "Recall: 0.8169014084507042\n"
          ]
        }
      ]
    },
    {
      "cell_type": "code",
      "source": [],
      "metadata": {
        "id": "0vEXiVoUMwS7"
      },
      "execution_count": 22,
      "outputs": []
    }
  ]
}